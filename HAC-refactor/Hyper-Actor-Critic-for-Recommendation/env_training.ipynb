{
 "cells": [
  {
   "cell_type": "code",
   "execution_count": null,
   "metadata": {},
   "outputs": [],
   "source": [
    "%matplotlib inline\n",
    "from plot_utils import get_training_info, get_rl_training_info, plot_multiple_line, smooth\n",
    "import numpy as np\n",
    "\n",
    "smoothness = 300\n",
    "expe = \"hac_SASRec_actor0.0001_critic0.001_behave0_hacoef0.1_niter50000_reg0.00001_ep0_noise0.1_bs64_epbs32_step20_topk1_seed7\"\n",
    "log_path = \"output/ml1m/agents/\" + expe  + \"/model.report\"\n",
    "info = get_rl_training_info(log_path, ['actor_loss', 'critic_loss', 'hyper_actor_loss', 'behavior_loss'])\n",
    "\n",
    "for k in list(info.keys()):\n",
    "    v = info[k]\n",
    "    info[k] = smooth(np.array(v), smoothness)\n",
    "print('\\t'.join([k for k,v in info.items()]))\n",
    "print('\\t'.join([str(v[-1]) for k,v in info.items()]))\n",
    "plot_multiple_line([\"curve\"], [info], x_name = 'episode')"
   ]
  }
 ],
 "metadata": {
  "kernelspec": {
   "display_name": "hac",
   "language": "python",
   "name": "python3"
  },
  "language_info": {
   "name": "python",
   "version": "3.9.21"
  }
 },
 "nbformat": 4,
 "nbformat_minor": 2
}
